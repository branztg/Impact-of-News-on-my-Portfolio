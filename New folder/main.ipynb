{
 "cells": [
  {
   "cell_type": "code",
   "execution_count": 26,
   "id": "3e47e27c-b858-410b-a458-9c4c85c532e6",
   "metadata": {},
   "outputs": [],
   "source": [
    "import requests\n",
    "from dotenv import load_dotenv\n",
    "import os \n",
    "import pandas as pd\n",
    "from newsapi import NewsApiClient\n",
    "import alpaca_trade_api as tradeapi\n",
    "import json"
   ]
  },
  {
   "cell_type": "code",
   "execution_count": 24,
   "id": "2e9d5a91-58e2-4ed8-ba91-531bdca22320",
   "metadata": {},
   "outputs": [],
   "source": [
    "news_api_key='6f6f3f98e1ee4cb192b84a6d66406d2a'\n",
    "#api_key = os.getenv('NEWS_API_KEY')\n",
    "\n",
    "newsapi = NewsApiClient(news_api_key)"
   ]
  },
  {
   "cell_type": "code",
   "execution_count": 4,
   "id": "3332850b-0894-4042-b995-108ae5e8bd87",
   "metadata": {},
   "outputs": [
    {
     "data": {
      "text/plain": [
       "True"
      ]
     },
     "execution_count": 4,
     "metadata": {},
     "output_type": "execute_result"
    }
   ],
   "source": [
    "load_dotenv()"
   ]
  },
  {
   "cell_type": "code",
   "execution_count": null,
   "id": "3fbc5a06-662e-4186-89b8-76cce0d1dc8d",
   "metadata": {},
   "outputs": [],
   "source": []
  },
  {
   "cell_type": "code",
   "execution_count": 1,
   "id": "4ef32351-f4aa-4f5f-843d-0cb8b2c41218",
   "metadata": {},
   "outputs": [],
   "source": [
    "#url = ('https://newsapi.org/v2/everything?q=covid&sortBy=popularity&apiKey=6f6f3f98e1ee4cb192b84a6d66406d2a')\n",
    "\n",
    "#response = requests.get(url)\n",
    "#response.json()"
   ]
  },
  {
   "cell_type": "code",
   "execution_count": 47,
   "id": "96348b9e-1a54-4536-be85-5ade42a547b6",
   "metadata": {},
   "outputs": [],
   "source": [
    "alpaca_api_key = os.getenv(\"ALPACA_API_KEY\")\n",
    "alpaca_secret_key = os.getenv(\"ALPACA_SECRET_KEY\")\n",
    "\n",
    "tradeapi = tradeapi.REST(\n",
    "    alpaca_api_key,\n",
    "    alpaca_secret_key,\n",
    "    api_version=\"v2\")"
   ]
  },
  {
   "cell_type": "code",
   "execution_count": 103,
   "id": "de2c290b-a775-495b-a3f7-47847a2f9e14",
   "metadata": {},
   "outputs": [],
   "source": [
    "stock_tickers = [\"AMZN\", \"GOOG\", \"TSLA\", \"MCD\", \"XOM\"] \n",
    "start_date = pd.Timestamp(\"2018-05-01\", tz=\"America/New_York\").isoformat()\n",
    "end_date = pd.Timestamp(\"2023-05-01\", tz=\"America/New_York\").isoformat()\n",
    "timeframe = \"1Day\""
   ]
  },
  {
   "cell_type": "code",
   "execution_count": 104,
   "id": "567c75a3-3768-495c-bd97-88d3a56de35f",
   "metadata": {},
   "outputs": [
    {
     "data": {
      "text/html": [
       "<div>\n",
       "<style scoped>\n",
       "    .dataframe tbody tr th:only-of-type {\n",
       "        vertical-align: middle;\n",
       "    }\n",
       "\n",
       "    .dataframe tbody tr th {\n",
       "        vertical-align: top;\n",
       "    }\n",
       "\n",
       "    .dataframe thead th {\n",
       "        text-align: right;\n",
       "    }\n",
       "</style>\n",
       "<table border=\"1\" class=\"dataframe\">\n",
       "  <thead>\n",
       "    <tr style=\"text-align: right;\">\n",
       "      <th></th>\n",
       "      <th>open</th>\n",
       "      <th>high</th>\n",
       "      <th>low</th>\n",
       "      <th>close</th>\n",
       "      <th>volume</th>\n",
       "      <th>trade_count</th>\n",
       "      <th>vwap</th>\n",
       "      <th>symbol</th>\n",
       "    </tr>\n",
       "    <tr>\n",
       "      <th>timestamp</th>\n",
       "      <th></th>\n",
       "      <th></th>\n",
       "      <th></th>\n",
       "      <th></th>\n",
       "      <th></th>\n",
       "      <th></th>\n",
       "      <th></th>\n",
       "      <th></th>\n",
       "    </tr>\n",
       "  </thead>\n",
       "  <tbody>\n",
       "    <tr>\n",
       "      <th>2018-05-01 04:00:00+00:00</th>\n",
       "      <td>1563.220</td>\n",
       "      <td>1585.0000</td>\n",
       "      <td>1552.1800</td>\n",
       "      <td>1582.260</td>\n",
       "      <td>4572091</td>\n",
       "      <td>91379</td>\n",
       "      <td>1571.199180</td>\n",
       "      <td>AMZN</td>\n",
       "    </tr>\n",
       "    <tr>\n",
       "      <th>2018-05-02 04:00:00+00:00</th>\n",
       "      <td>1580.980</td>\n",
       "      <td>1588.4992</td>\n",
       "      <td>1566.3600</td>\n",
       "      <td>1569.680</td>\n",
       "      <td>4360674</td>\n",
       "      <td>89539</td>\n",
       "      <td>1577.052810</td>\n",
       "      <td>AMZN</td>\n",
       "    </tr>\n",
       "    <tr>\n",
       "      <th>2018-05-03 04:00:00+00:00</th>\n",
       "      <td>1560.010</td>\n",
       "      <td>1574.8000</td>\n",
       "      <td>1546.0200</td>\n",
       "      <td>1572.075</td>\n",
       "      <td>4251917</td>\n",
       "      <td>93849</td>\n",
       "      <td>1562.809882</td>\n",
       "      <td>AMZN</td>\n",
       "    </tr>\n",
       "    <tr>\n",
       "      <th>2018-05-04 04:00:00+00:00</th>\n",
       "      <td>1562.450</td>\n",
       "      <td>1584.9000</td>\n",
       "      <td>1562.1900</td>\n",
       "      <td>1580.950</td>\n",
       "      <td>3443567</td>\n",
       "      <td>76205</td>\n",
       "      <td>1578.041481</td>\n",
       "      <td>AMZN</td>\n",
       "    </tr>\n",
       "    <tr>\n",
       "      <th>2018-05-07 04:00:00+00:00</th>\n",
       "      <td>1589.337</td>\n",
       "      <td>1606.9490</td>\n",
       "      <td>1587.8300</td>\n",
       "      <td>1600.140</td>\n",
       "      <td>3807853</td>\n",
       "      <td>85050</td>\n",
       "      <td>1599.382013</td>\n",
       "      <td>AMZN</td>\n",
       "    </tr>\n",
       "    <tr>\n",
       "      <th>...</th>\n",
       "      <td>...</td>\n",
       "      <td>...</td>\n",
       "      <td>...</td>\n",
       "      <td>...</td>\n",
       "      <td>...</td>\n",
       "      <td>...</td>\n",
       "      <td>...</td>\n",
       "      <td>...</td>\n",
       "    </tr>\n",
       "    <tr>\n",
       "      <th>2023-04-25 04:00:00+00:00</th>\n",
       "      <td>117.550</td>\n",
       "      <td>117.7400</td>\n",
       "      <td>115.6300</td>\n",
       "      <td>116.520</td>\n",
       "      <td>12180541</td>\n",
       "      <td>114799</td>\n",
       "      <td>116.422029</td>\n",
       "      <td>XOM</td>\n",
       "    </tr>\n",
       "    <tr>\n",
       "      <th>2023-04-26 04:00:00+00:00</th>\n",
       "      <td>116.030</td>\n",
       "      <td>117.0900</td>\n",
       "      <td>114.6800</td>\n",
       "      <td>115.450</td>\n",
       "      <td>15567368</td>\n",
       "      <td>121928</td>\n",
       "      <td>115.687788</td>\n",
       "      <td>XOM</td>\n",
       "    </tr>\n",
       "    <tr>\n",
       "      <th>2023-04-27 04:00:00+00:00</th>\n",
       "      <td>115.620</td>\n",
       "      <td>117.0100</td>\n",
       "      <td>114.8818</td>\n",
       "      <td>116.830</td>\n",
       "      <td>16278977</td>\n",
       "      <td>148902</td>\n",
       "      <td>116.091493</td>\n",
       "      <td>XOM</td>\n",
       "    </tr>\n",
       "    <tr>\n",
       "      <th>2023-04-28 04:00:00+00:00</th>\n",
       "      <td>117.250</td>\n",
       "      <td>119.9200</td>\n",
       "      <td>116.8300</td>\n",
       "      <td>118.340</td>\n",
       "      <td>24048856</td>\n",
       "      <td>183643</td>\n",
       "      <td>118.776711</td>\n",
       "      <td>XOM</td>\n",
       "    </tr>\n",
       "    <tr>\n",
       "      <th>2023-05-01 04:00:00+00:00</th>\n",
       "      <td>115.990</td>\n",
       "      <td>117.3000</td>\n",
       "      <td>114.4500</td>\n",
       "      <td>114.670</td>\n",
       "      <td>17211348</td>\n",
       "      <td>153125</td>\n",
       "      <td>115.276151</td>\n",
       "      <td>XOM</td>\n",
       "    </tr>\n",
       "  </tbody>\n",
       "</table>\n",
       "<p>6295 rows × 8 columns</p>\n",
       "</div>"
      ],
      "text/plain": [
       "                               open       high        low     close    volume  \\\n",
       "timestamp                                                                       \n",
       "2018-05-01 04:00:00+00:00  1563.220  1585.0000  1552.1800  1582.260   4572091   \n",
       "2018-05-02 04:00:00+00:00  1580.980  1588.4992  1566.3600  1569.680   4360674   \n",
       "2018-05-03 04:00:00+00:00  1560.010  1574.8000  1546.0200  1572.075   4251917   \n",
       "2018-05-04 04:00:00+00:00  1562.450  1584.9000  1562.1900  1580.950   3443567   \n",
       "2018-05-07 04:00:00+00:00  1589.337  1606.9490  1587.8300  1600.140   3807853   \n",
       "...                             ...        ...        ...       ...       ...   \n",
       "2023-04-25 04:00:00+00:00   117.550   117.7400   115.6300   116.520  12180541   \n",
       "2023-04-26 04:00:00+00:00   116.030   117.0900   114.6800   115.450  15567368   \n",
       "2023-04-27 04:00:00+00:00   115.620   117.0100   114.8818   116.830  16278977   \n",
       "2023-04-28 04:00:00+00:00   117.250   119.9200   116.8300   118.340  24048856   \n",
       "2023-05-01 04:00:00+00:00   115.990   117.3000   114.4500   114.670  17211348   \n",
       "\n",
       "                           trade_count         vwap symbol  \n",
       "timestamp                                                   \n",
       "2018-05-01 04:00:00+00:00        91379  1571.199180   AMZN  \n",
       "2018-05-02 04:00:00+00:00        89539  1577.052810   AMZN  \n",
       "2018-05-03 04:00:00+00:00        93849  1562.809882   AMZN  \n",
       "2018-05-04 04:00:00+00:00        76205  1578.041481   AMZN  \n",
       "2018-05-07 04:00:00+00:00        85050  1599.382013   AMZN  \n",
       "...                                ...          ...    ...  \n",
       "2023-04-25 04:00:00+00:00       114799   116.422029    XOM  \n",
       "2023-04-26 04:00:00+00:00       121928   115.687788    XOM  \n",
       "2023-04-27 04:00:00+00:00       148902   116.091493    XOM  \n",
       "2023-04-28 04:00:00+00:00       183643   118.776711    XOM  \n",
       "2023-05-01 04:00:00+00:00       153125   115.276151    XOM  \n",
       "\n",
       "[6295 rows x 8 columns]"
      ]
     },
     "execution_count": 104,
     "metadata": {},
     "output_type": "execute_result"
    }
   ],
   "source": [
    "stock_df_portfolio = tradeapi.get_bars(\n",
    "    stock_tickers,\n",
    "    timeframe,\n",
    "    start_date,\n",
    "    end_date\n",
    ").df\n",
    "\n",
    "stock_df_portfolio"
   ]
  },
  {
   "cell_type": "code",
   "execution_count": null,
   "id": "354e8cb0-3d7f-48eb-b40c-d00a93376602",
   "metadata": {},
   "outputs": [],
   "source": []
  },
  {
   "cell_type": "code",
   "execution_count": 117,
   "id": "432ce932-390d-4348-8c02-1a674a736887",
   "metadata": {},
   "outputs": [],
   "source": [
    "nasdaq_api_key = os.getenv(\"NASDAQ_API_KEY\")"
   ]
  },
  {
   "cell_type": "code",
   "execution_count": 124,
   "id": "d1cb7d17-9990-4332-9ae1-aada873fb1cf",
   "metadata": {},
   "outputs": [],
   "source": [
    "request_url = \"https://data.nasdaq.com/api/v3/datasets/WIKI/BTC.json?api_key=\""
   ]
  },
  {
   "cell_type": "code",
   "execution_count": 125,
   "id": "5985691c-1a3b-480e-a89a-575a4629f0ce",
   "metadata": {},
   "outputs": [],
   "source": [
    "request_url = request_url + nasdaq_api_key\n",
    "\n",
    "response_data = requests.get(request_url)"
   ]
  },
  {
   "cell_type": "code",
   "execution_count": 126,
   "id": "506662b3-416e-4cb0-a9e9-a774cb1567a3",
   "metadata": {},
   "outputs": [
    {
     "data": {
      "text/plain": [
       "b'{\"quandl_error\":{\"code\":\"QECx02\",\"message\":\"You have submitted an incorrect Dataset code. Please check your Dataset codes and try again.\"}}'"
      ]
     },
     "execution_count": 126,
     "metadata": {},
     "output_type": "execute_result"
    }
   ],
   "source": [
    "response_data.content"
   ]
  },
  {
   "cell_type": "code",
   "execution_count": null,
   "id": "96eec471-f0f0-4e62-a006-d709e4381bf5",
   "metadata": {},
   "outputs": [],
   "source": []
  }
 ],
 "metadata": {
  "kernelspec": {
   "display_name": "Python 3 (ipykernel)",
   "language": "python",
   "name": "python3"
  },
  "language_info": {
   "codemirror_mode": {
    "name": "ipython",
    "version": 3
   },
   "file_extension": ".py",
   "mimetype": "text/x-python",
   "name": "python",
   "nbconvert_exporter": "python",
   "pygments_lexer": "ipython3",
   "version": "3.7.13"
  }
 },
 "nbformat": 4,
 "nbformat_minor": 5
}
